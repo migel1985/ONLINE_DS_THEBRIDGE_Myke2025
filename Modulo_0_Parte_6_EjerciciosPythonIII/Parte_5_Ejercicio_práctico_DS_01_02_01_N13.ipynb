{
 "cells": [
  {
   "cell_type": "markdown",
   "metadata": {
    "id": "RGg9iWpoRWxG"
   },
   "source": [
    "![ejercicios.png](attachment:ejercicios.png)"
   ]
  },
  {
   "cell_type": "markdown",
   "metadata": {
    "id": "AyOlWS2nRWxH"
   },
   "source": [
    "## PRACTICA OBLIGATORIA: COLECCIONES Y FUNCIONES"
   ]
  },
  {
   "cell_type": "markdown",
   "metadata": {
    "id": "6UOgb0KVRWxH"
   },
   "source": [
    "* La práctica obligatoria de esta unidad consiste varios ejercicios de programación libre a completar sobre Colecciones y Funciones. Descarga este notebook en tu ordenador y trabaja en local.  \n",
    "* Recuerda que debes subirla a tu repositorio personal antes de la sesión en vivo para que puntúe adecuadamente y puedas participar en dicha sesión.  \n",
    "* Recuerda también que no es necesario que esté perfecta, sólo es necesario que se vea el esfuerzo.\n",
    "* Esta práctica se resolverá en la sesión en vivo correspondiente y la solución se publicará en el repo del curso."
   ]
  },
  {
   "cell_type": "markdown",
   "metadata": {
    "id": "j3yu-tEjRWxH"
   },
   "source": [
    "### Contenidos"
   ]
  },
  {
   "cell_type": "markdown",
   "metadata": {
    "id": "kO-fLH39RWxH"
   },
   "source": [
    "## Ejercicio 1\n",
    "Eleva todos los elementos de la lista al cuadrado\n",
    "> ```ejer_2 = [1,2,3,4,5]```"
   ]
  },
  {
   "cell_type": "code",
   "execution_count": 16,
   "metadata": {
    "id": "ks5l3yi7RWxH"
   },
   "outputs": [
    {
     "name": "stdout",
     "output_type": "stream",
     "text": [
      "<class 'list'>\n",
      "Lista inicial:  [1, 2, 3, 4, 5]\n",
      "Lista cuadrada forma tradicional: [1, 4, 9, 16, 25]\n",
      "<class 'list'>\n",
      "Lista inicial:  [1, 2, 3, 4, 5]\n",
      "Lista cuadrada forma comprimida: [1, 4, 9, 16, 25]\n"
     ]
    }
   ],
   "source": [
    "# Forma tradicional\n",
    "def elevarCuadrados(lista):\n",
    "    print(type(lista));\n",
    "    print(\"Lista inicial: \", lista);\n",
    "    rdo = [];\n",
    "    for valor in lista:\n",
    "        rdo.append(valor**2);\n",
    "    return rdo;\n",
    "\n",
    "#Forma atajada usando list comprehesion\n",
    "def elevarCuadradosComprehesion(lista):\n",
    "    print(type(lista));\n",
    "    print(\"Lista inicial: \", lista);\n",
    "    return [valor**2 for valor in lista] #En una sola linea sin escribir el bucle con for.\n",
    "\n",
    "ejer_2 = [1,2,3,4,5];\n",
    "print(\"Lista cuadrada forma tradicional:\", elevarCuadrados(ejer_2));\n",
    "print(\"Lista cuadrada forma comprimida:\", elevarCuadradosComprehesion(ejer_2));\n"
   ]
  },
  {
   "cell_type": "markdown",
   "metadata": {
    "id": "kI_Xr5oFRWxI"
   },
   "source": [
    "## Ejercicio 2\n",
    "Haz un programa que detecte todos los duplicados de un elemento en una lista:\n",
    "* Utiliza una variable duplicado para asignarle el valor del elemento del que queremos encontrar todos sus duplicados.\n",
    "* El programa debe devolver todos los índices de los elementos duplicados.\n",
    "* Aplícalo para encontrar los duplicados de \"un\", \"es\" y \"binario\" de:  \n",
    "\n",
    ">```ejer_3 = [\"Un\", \"árbol\", \"binario\", \"es\", \"una\", \"estructura\", \"de\", \"un\", \"tipo\", \"particular\", \"a\", \"veces\", \"no\", \"es\", \"ni\", \"binario\"]```\n"
   ]
  },
  {
   "cell_type": "code",
   "execution_count": 26,
   "metadata": {
    "id": "cLY9WB7YRWxI"
   },
   "outputs": [
    {
     "name": "stdout",
     "output_type": "stream",
     "text": [
      " \"un\" aparece en las posiciones:  [0, 7]\n",
      "2\n",
      " \"es\" aparece en las posiciones:  [3, 13]\n",
      " \"binario\" aparece en las posiciones:  [2, 15]\n"
     ]
    }
   ],
   "source": [
    "def encontrarDuplicados(lista, duplicado):\n",
    "    indices = [];\n",
    "    for i in range(len(lista)):\n",
    "        if lista[i].lower() == duplicado.lower():\n",
    "            indices.append(i);\n",
    "    return indices;\n",
    "\n",
    "\n",
    "ejer_3 = [\"Un\", \"árbol\", \"binario\", \"es\", \"una\", \"estructura\", \"de\", \"un\", \"tipo\", \"particular\", \"a\", \"veces\", \"no\", \"es\", \"ni\", \"binario\"];\n",
    "duplicados = encontrarDuplicados(ejer_3, \"un\");\n",
    "print(\" \\\"un\\\" aparece en las posiciones: \", duplicados);\n",
    "duplicados = encontrarDuplicados(ejer_3, \"es\");\n",
    "print(\" \\\"es\\\" aparece en las posiciones: \", duplicados);\n",
    "duplicados = encontrarDuplicados(ejer_3, \"binario\");\n",
    "print(\" \\\"binario\\\" aparece en las posiciones: \", duplicados);\n"
   ]
  },
  {
   "cell_type": "markdown",
   "metadata": {
    "id": "3WrBd5QaRWxI"
   },
   "source": [
    "## Ejercicio 3\n",
    "1. ¿Cuántas veces se repite el 3 en la siguiente tupla?\n",
    "2. Crea una tupla nueva con los elementos desde la posicion 5 a la 10.\n",
    "3. ¿Cuántos elementos tiene la tupla `ejer_9`?\n",
    "> ```ejer_9 = (3, 20, 3, 47, 19, 3, 29, 45, 67, 78, 90, 3, 3, 5, 2, 4, 7, 9, 4, 2, 4, 3, 3, 4, 6, 7)```"
   ]
  },
  {
   "cell_type": "code",
   "execution_count": 40,
   "metadata": {
    "id": "bkv_R5LYRWxI"
   },
   "outputs": [
    {
     "name": "stdout",
     "output_type": "stream",
     "text": [
      "1.- ¿Cuántas veces se repite el 3 en la siguiente tupla?\n",
      "Repeticiones del número 3 con método definido por el usuario:  7\n",
      "Repeticiones del número 3 con método de listas/tuplas:  7\n",
      "\n",
      "2.- Crea una tupla nueva con los elementos desde la posicion 5 a la 10.\n",
      "<class 'tuple'> (3, 29, 45, 67, 78, 90)\n",
      "3.- ¿Cuántos elementos tiene la tupla ejer_9?\n",
      "26\n"
     ]
    }
   ],
   "source": [
    "def repeticionesNumeroX(lista, numeroEncontrar):\n",
    "    contador = 0;\n",
    "    for valor in lista:\n",
    "        if valor == numeroEncontrar:\n",
    "            contador += 1;\n",
    "    return contador;\n",
    "\n",
    "#def tupla5_10(tupOriginal):\n",
    "    \n",
    "\n",
    "ejer_9 = (3, 20, 3, 47, 19, 3, 29, 45, 67, 78, 90, 3, 3, 5, 2, 4, 7, 9, 4, 2, 4, 3, 3, 4, 6, 7);\n",
    "print(\"1.- ¿Cuántas veces se repite el 3 en la siguiente tupla?\");\n",
    "print(\"Repeticiones del número 3 con método definido por el usuario: \", repeticionesNumeroX(ejer_9, 3)); # Con función definida por el usuario\n",
    "print(\"Repeticiones del número 3 con método de listas/tuplas: \", ejer_9.count(3)); # Con función de listas/tuplas\n",
    "print();\n",
    "print(\"2.- Crea una tupla nueva con los elementos desde la posicion 5 a la 10.\");\n",
    "nuevaTupla = ejer_9[5:11];\n",
    "print(type(nuevaTupla), nuevaTupla);\n",
    "print(\"3.- ¿Cuántos elementos tiene la tupla ejer_9?: \", len(ejer_9));"
   ]
  },
  {
   "cell_type": "markdown",
   "metadata": {
    "id": "6g8Y54AeRWxI"
   },
   "source": [
    "## Ejercicio 4\n",
    "Comprueba si el numero 60 esta en la tupla del ejercicio 3"
   ]
  },
  {
   "cell_type": "code",
   "execution_count": 48,
   "metadata": {
    "id": "F8VTEZonRWxI"
   },
   "outputs": [
    {
     "name": "stdout",
     "output_type": "stream",
     "text": [
      "60 NO está en la tupla ejer_3\n"
     ]
    }
   ],
   "source": [
    "if 60 in ejer_9: \n",
    "    print(\"60 está en la tupla ejer_3\");\n",
    "else:\n",
    "    print(\"60 NO está en la tupla ejer_3\");    "
   ]
  },
  {
   "cell_type": "markdown",
   "metadata": {
    "id": "y0fg-ZA6RWxI"
   },
   "source": [
    "## Ejercicio 5\n",
    "1. Convierte la tupla del ejercicio 3 en una lista\n",
    "2. Convierte la tupla del ejercicio 3 en un set\n",
    "3. Convierte la tupla del ejercicio 3 en un diccionario. Usa también los indices"
   ]
  },
  {
   "cell_type": "code",
   "execution_count": 51,
   "metadata": {
    "id": "_O5hXr01RWxI"
   },
   "outputs": [
    {
     "name": "stdout",
     "output_type": "stream",
     "text": [
      "<class 'tuple'>   (3, 20, 3, 47, 19, 3, 29, 45, 67, 78, 90, 3, 3, 5, 2, 4, 7, 9, 4, 2, 4, 3, 3, 4, 6, 7)\n",
      "<class 'list'>   [3, 20, 3, 47, 19, 3, 29, 45, 67, 78, 90, 3, 3, 5, 2, 4, 7, 9, 4, 2, 4, 3, 3, 4, 6, 7]\n"
     ]
    }
   ],
   "source": [
    "print(type(ejer_9), \" \", ejer_9);\n",
    "mi_lista = list(ejer_9);\n",
    "print(type(mi_lista), \" \", mi_lista);"
   ]
  },
  {
   "cell_type": "markdown",
   "metadata": {
    "id": "eOdWWbxvRWxJ"
   },
   "source": [
    "## Ejercicio 6\n",
    "Multiplica todos los valores del diccionario\n",
    "> ```ejer_6 = {1: 11, 2: 22, 3: 33, 4: 44, 5: 55}```"
   ]
  },
  {
   "cell_type": "code",
   "execution_count": 52,
   "metadata": {
    "id": "KcuByovKRWxJ"
   },
   "outputs": [
    {
     "name": "stdout",
     "output_type": "stream",
     "text": [
      "19326120\n"
     ]
    }
   ],
   "source": [
    "ejer_6 = {1: 11, 2: 22, 3: 33, 4: 44, 5: 55};\n",
    "resultado = 1; #la inicializo a 1 porque si lo hago a 0 mal vamos... jeje\n",
    "for valor in ejer_6.values():\n",
    "    resultado *= valor;\n",
    "print(resultado);"
   ]
  },
  {
   "cell_type": "markdown",
   "metadata": {
    "id": "W7TUSaKRRWxJ"
   },
   "source": [
    "## Ejercicio 7\n",
    "\n",
    "1. Crea un diccionario que describa un libro, con los siguientes campos o claves: \"titulo\",\"autor\",\"idioma original\",\"año de publicación\".\n",
    "2. Crea un a lista, llamada librería.\n",
    "3. Añade cuatro libros a tu elección a la librería."
   ]
  },
  {
   "cell_type": "code",
   "execution_count": 59,
   "metadata": {
    "id": "d-IMRvxRRWxJ",
    "vscode": {
     "languageId": "plaintext"
    }
   },
   "outputs": [
    {
     "name": "stdout",
     "output_type": "stream",
     "text": [
      "[{'titulo': 'La historia interminable', 'autor': 'Michael Ende', 'idiomaOriginal': 'inglés', 'annoPublicacion': '1980'}, {'titulo': 'Fai quelo que sei', 'autor': 'Laura Pausini', 'idiomaOriginal': 'italiano', 'annoPublicacion': '2020'}, {'titulo': 'El libro de las puertas', 'autor': 'Gareth Gordon', 'idiomaOriginal': 'inglés', 'annoPublicacion': '2024'}, {'titulo': 'Ángeles y Demonios', 'autor': 'Dan Brown', 'idiomaOriginal': 'inglés', 'annoPublicacion': '2000'}, {'titulo': 'El mal absoluto', 'autor': 'José Luis Muñoz Jimeno', 'idiomaOriginal': 'español', 'annoPublicacion': '2010'}]\n"
     ]
    }
   ],
   "source": [
    "dictLibro = {\"titulo\" : \"La historia interminable\", \"autor\" : \"Michael Ende\", \"idiomaOriginal\" : \"inglés\", \"annoPublicacion\" : \"1980\"};\n",
    "libreria = [];\n",
    "\n",
    "dictLibro1 = {\"titulo\" : \"Fai quelo que sei\", \"autor\" : \"Laura Pausini\", \"idiomaOriginal\" : \"italiano\", \"annoPublicacion\" : \"2020\"};\n",
    "dictLibro2 = {\"titulo\" : \"El libro de las puertas\", \"autor\" : \"Gareth Gordon\", \"idiomaOriginal\" : \"inglés\", \"annoPublicacion\" : \"2024\"};\n",
    "dictLibro3 = {\"titulo\" : \"Ángeles y Demonios\", \"autor\" : \"Dan Brown\", \"idiomaOriginal\" : \"inglés\", \"annoPublicacion\" : \"2000\"};\n",
    "dictLibro4 = {\"titulo\" : \"El mal absoluto\", \"autor\" : \"José Luis Muñoz Jimeno\", \"idiomaOriginal\" : \"español\", \"annoPublicacion\" : \"2010\"};\n",
    "\n",
    "\n",
    "libreria.append(dictLibro);\n",
    "libreria.append(dictLibro1);\n",
    "libreria.append(dictLibro2);\n",
    "libreria.append(dictLibro3);\n",
    "libreria.append(dictLibro4);\n",
    "print(libreria);\n"
   ]
  },
  {
   "cell_type": "markdown",
   "metadata": {
    "id": "glMoedjYRWxJ"
   },
   "source": [
    "## Ejercicio 8\n",
    "Modifica los valores del idioma de todos los libros del ejercicio anterior para que sea \"esperanto\"\n"
   ]
  },
  {
   "cell_type": "code",
   "execution_count": 60,
   "metadata": {
    "id": "veNdC-uwRWxJ"
   },
   "outputs": [
    {
     "name": "stdout",
     "output_type": "stream",
     "text": [
      "[{'titulo': 'La historia interminable', 'autor': 'Michael Ende', 'idiomaOriginal': 'esperanto', 'annoPublicacion': '1980'}, {'titulo': 'Fai quelo que sei', 'autor': 'Laura Pausini', 'idiomaOriginal': 'esperanto', 'annoPublicacion': '2020'}, {'titulo': 'El libro de las puertas', 'autor': 'Gareth Gordon', 'idiomaOriginal': 'esperanto', 'annoPublicacion': '2024'}, {'titulo': 'Ángeles y Demonios', 'autor': 'Dan Brown', 'idiomaOriginal': 'esperanto', 'annoPublicacion': '2000'}, {'titulo': 'El mal absoluto', 'autor': 'José Luis Muñoz Jimeno', 'idiomaOriginal': 'esperanto', 'annoPublicacion': '2010'}]\n"
     ]
    }
   ],
   "source": [
    "for libro in libreria:\n",
    "    libro[\"idiomaOriginal\"] = \"esperanto\";\n",
    "\n",
    "print(libreria);"
   ]
  },
  {
   "cell_type": "markdown",
   "metadata": {
    "id": "DRCJG04KRWxJ"
   },
   "source": [
    "## Ejercicio 9\n",
    "1. Escribe un programa que dada una variable titulo busque los libros que hay en la librería con ese título. Si no se encuentra debe devolver el mensaje `Ese no lo tengo, ¿mola?`\n",
    "2. Pruena que el programa con uno de tus libros y con otro que no contenga tu librería."
   ]
  },
  {
   "cell_type": "code",
   "execution_count": 84,
   "metadata": {
    "id": "eWHdJi9BRWxJ"
   },
   "outputs": [
    {
     "name": "stdin",
     "output_type": "stream",
     "text": [
      "Introduce el título del libro que debo buscar: Lola y lolo\n"
     ]
    },
    {
     "name": "stdout",
     "output_type": "stream",
     "text": [
      "Analizando el libro:  Lola y lolo\n",
      "Ese no lo tengo, ¿mola?\n",
      "Analizando el libro 'La historia interminable'\n",
      "Analizando el libro 'El ataque de los clones'\n",
      "Ese no lo tengo, ¿mola?\n"
     ]
    }
   ],
   "source": [
    "def buscarLibroEnBiblioteca(tituloABuscar):\n",
    "    libroEncontrado = False;\n",
    "    for libro in libreria:\n",
    "        if libro[\"titulo\"] == tituloABuscar:\n",
    "            libroEncontrado = True;\n",
    "            break;\n",
    "    return libroEncontrado;\n",
    "\n",
    "#me parece genial que sea el usuario el que meta el libro a buscar\n",
    "tituloABuscar = input(\"Introduce el título del libro que debo buscar:\");\n",
    "libroEncontrado = buscarLibroEnBiblioteca(tituloABuscar);\n",
    "print(\"Analizando el libro: \", tituloABuscar);\n",
    "if libroEncontrado != True:\n",
    "    print(\"Ese no lo tengo, ¿mola?\");\n",
    "\n",
    "print(\"Analizando el libro 'La historia interminable'\");\n",
    "if buscarLibroEnBiblioteca(\"La historia interminable\") != True:\n",
    "    print(\"Ese no lo tengo, ¿mola?\");\n",
    "\n",
    "print(\"Analizando el libro 'El ataque de los clones'\");\n",
    "if buscarLibroEnBiblioteca(\"El ataque de los clones\") != True:\n",
    "    print(\"Ese no lo tengo, ¿mola?\");\n",
    "    "
   ]
  },
  {
   "cell_type": "markdown",
   "metadata": {
    "id": "17YOpYuFRWxJ"
   },
   "source": [
    "## Ejercicio 10\n",
    "Convierte el programa del ejercicio 2 en una función al que se le pase el valor a buscar como un argumento posicional"
   ]
  },
  {
   "cell_type": "code",
   "execution_count": 90,
   "metadata": {
    "id": "xbj0LgvnRWxJ"
   },
   "outputs": [
    {
     "name": "stdout",
     "output_type": "stream",
     "text": [
      " \"un\" aparece en las posiciones:  [0, 7]\n"
     ]
    }
   ],
   "source": [
    "def encontrarDuplicados(lista, duplicado):\n",
    "    indices = [];\n",
    "    for i in range(len(lista)):\n",
    "        if lista[i].lower() == duplicado.lower():\n",
    "            indices.append(i);\n",
    "    return indices;\n",
    "\n",
    "\n",
    "ejer_3 = [\"Un\", \"árbol\", \"binario\", \"es\", \"una\", \"estructura\", \"de\", \"un\", \"tipo\", \"particular\", \"a\", \"veces\", \"no\", \"es\", \"ni\", \"binario\"];\n",
    "duplicados = encontrarDuplicados(duplicado = \"un\", lista = ejer_3);\n",
    "print(\" \\\"un\\\" aparece en las posiciones: \", duplicados);"
   ]
  },
  {
   "cell_type": "markdown",
   "metadata": {
    "id": "xZ-sWJxPRWxJ"
   },
   "source": [
    "## Ejercicio 11\n",
    "Convierte el programa del ejercicio 9 en una función al que se le pasen como argumentos la librería, posicional, y el título, argumento keyword con valor \"ninguno\", por defecto."
   ]
  },
  {
   "cell_type": "code",
   "execution_count": 94,
   "metadata": {
    "id": "4-JrsMdNRWxK"
   },
   "outputs": [
    {
     "name": "stdout",
     "output_type": "stream",
     "text": [
      "Analizando el libro ' La historia interminable '\n",
      "Analizando el libro ' El ataque de los clones '\n",
      "Ese no lo tengo, ¿mola?\n",
      "Analizando el libro ' ninguno '\n",
      "Ese no lo tengo, ¿mola?\n"
     ]
    }
   ],
   "source": [
    "def buscarLibroEnBiblioteca(pLibreria, tituloABuscar=\"ninguno\"):\n",
    "    print(\"Analizando el libro '\", tituloABuscar ,\"'\");\n",
    "    libroEncontrado = False;\n",
    "    for libro in pLibreria:\n",
    "        if libro[\"titulo\"] == tituloABuscar:\n",
    "            libroEncontrado = True;\n",
    "            break;\n",
    "    return libroEncontrado;\n",
    "\n",
    "\n",
    "if buscarLibroEnBiblioteca(libreria, \"La historia interminable\") != True:\n",
    "    print(\"Ese no lo tengo, ¿mola?\");\n",
    "\n",
    "if buscarLibroEnBiblioteca(libreria, \"El ataque de los clones\") != True:\n",
    "    print(\"Ese no lo tengo, ¿mola?\");\n",
    "\n",
    "if buscarLibroEnBiblioteca(libreria) != True:\n",
    "    print(\"Ese no lo tengo, ¿mola?\");"
   ]
  },
  {
   "cell_type": "markdown",
   "metadata": {
    "id": "FtJir95QRWxK"
   },
   "source": [
    "## Ejercicio 12\n",
    "Solicitar al usuario que ingrese su dirección email. Imprimir un mensaje indicando si la dirección es válida o no, valiéndose de una función para decidirlo. Una dirección se considerará válida si contiene el símbolo \"@\"."
   ]
  },
  {
   "cell_type": "code",
   "execution_count": 98,
   "metadata": {
    "id": "sk852IZ8RWxK"
   },
   "outputs": [
    {
     "name": "stdin",
     "output_type": "stream",
     "text": [
      "Introduce un email:  miguel@miguel.com\n"
     ]
    },
    {
     "name": "stdout",
     "output_type": "stream",
     "text": [
      "El email es válido\n"
     ]
    }
   ],
   "source": [
    "userEmail = input(\"Introduce un email: \");\n",
    "if userEmail.find(\"@\") != -1:\n",
    "    print(\"El email es válido\");\n",
    "else:\n",
    "    print(\"El email NO es válido\");"
   ]
  },
  {
   "cell_type": "markdown",
   "metadata": {
    "id": "Kw1MWBwBRWxK"
   },
   "source": [
    "## Ejercicio 13\n",
    "Escribe una función que compruebe si un DNI es válido, devolviendo `True` en caso afirmativo.  \n",
    "En primer lugar, el DNI debe tener entre 7 y 8 dígitos numéricos.  \n",
    "Para saber si la letra del DNI es correcta puedes utilizar el siguiente fragmento de código:\n",
    ">```Python\n",
    ">DNI= 55555555\n",
    ">palabra='TRWAGMYFPDXBNJZSQVHLCKE'\n",
    ">print('La letra del DNI es: ', palabra[DNI%23])\n",
    ">````\n"
   ]
  },
  {
   "cell_type": "code",
   "execution_count": 125,
   "metadata": {
    "id": "F5Z9rSHqRWxK"
   },
   "outputs": [
    {
     "name": "stdout",
     "output_type": "stream",
     "text": [
      "El DNI SI ES es correcto\n",
      "El DNI SI ES es correcto\n",
      "El DNI SI ES es correcto\n"
     ]
    }
   ],
   "source": [
    "def validarDNI(pDni):\n",
    "    if len(pDni) <= 9:\n",
    "        if len(pDni) == 9:\n",
    "            if pDni[:8].isdigit() and pDni[-1].isalpha():\n",
    "                palabra='TRWAGMYFPDXBNJZSQVHLCKE'\n",
    "                if palabra[int(pDni[:8])%23] == pDni[-1]:\n",
    "                    print(\"El DNI SI ES es correcto\");\n",
    "                else:\n",
    "                    print(\"El DNI no es correcto\");\n",
    "            else:\n",
    "                print(\"El DNI no es correcto\");\n",
    "        else:\n",
    "            if pDni[:7].isdigit() and pDni[-1].isalpha():\n",
    "                palabra='TRWAGMYFPDXBNJZSQVHLCKE'\n",
    "                if palabra[int(pDni[:7])%23] == pDni[-1]:\n",
    "                    print(\"El DNI SI ES es correcto\");\n",
    "                else:\n",
    "                    print(\"El DNI no es correcto\");\n",
    "            else:\n",
    "                print(\"El DNI no es correcto\");\n",
    "    else:\n",
    "            print(\"El DNI no es correcto\");\n",
    "\n",
    "validarDNI(\"72723868F\");\n",
    "validarDNI(\"6954959N\");\n",
    "validarDNI(\"16256826N\");"
   ]
  },
  {
   "cell_type": "code",
   "execution_count": null,
   "metadata": {},
   "outputs": [],
   "source": []
  }
 ],
 "metadata": {
  "colab": {
   "provenance": []
  },
  "kernelspec": {
   "display_name": "Python 3 (ipykernel)",
   "language": "python",
   "name": "python3"
  },
  "language_info": {
   "codemirror_mode": {
    "name": "ipython",
    "version": 3
   },
   "file_extension": ".py",
   "mimetype": "text/x-python",
   "name": "python",
   "nbconvert_exporter": "python",
   "pygments_lexer": "ipython3",
   "version": "3.10.11"
  }
 },
 "nbformat": 4,
 "nbformat_minor": 4
}
