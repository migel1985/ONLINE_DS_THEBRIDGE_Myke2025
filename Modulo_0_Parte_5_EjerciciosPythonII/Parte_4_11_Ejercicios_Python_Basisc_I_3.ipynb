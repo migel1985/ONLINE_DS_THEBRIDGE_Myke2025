{
 "cells": [
  {
   "cell_type": "markdown",
   "metadata": {
    "id": "cYTfrwAXWzWD"
   },
   "source": [
    "## EJERCICIOS PYTHON BASICO 3:\n",
    "## Operaciones matemáticas, comparación y booleanas"
   ]
  },
  {
   "cell_type": "markdown",
   "metadata": {
    "id": "iOpSWbA3WzWG"
   },
   "source": [
    "Completa los siguiente ejercicios, la solución completa a los mismos se publicarán en el repo del curso a lo largo del sprint. En algunos ejercicios se muestra la solución final, para que puedas comprobar que lo has hecho bien, pero lo importante es el código que generes. ¡Vaaamos, a ello...!"
   ]
  },
  {
   "cell_type": "markdown",
   "metadata": {
    "id": "7kdojC78WzWI"
   },
   "source": [
    "![ejercicio.png](./img/ejercicio.png)\n",
    "\n",
    "\n",
    "## Ejercicio 1\n",
    "Tenemos las siguientes variables:\n",
    "\n",
    "```Python\n",
    "A = 4\n",
    "B = \"Text\"\n",
    "C = 4.1\n",
    "```\n",
    "\n",
    "Comprueba:\n",
    "1. Si A y B son equivalentes\n",
    "2. Si A y C NO son equivalentes\n",
    "3. Si A es mayor que C\n",
    "4. Si C es menor o igual que A\n",
    "5. Si B NO es equivalente a C"
   ]
  },
  {
   "cell_type": "code",
   "execution_count": 7,
   "metadata": {
    "id": "4DrYdvQ9WzWJ",
    "outputId": "a9229e0a-3c81-4587-dd8e-b6860323d443"
   },
   "outputs": [
    {
     "name": "stdout",
     "output_type": "stream",
     "text": [
      "False\n",
      "True\n",
      "False\n",
      "False\n",
      "True\n"
     ]
    }
   ],
   "source": [
    "A = int(4);\n",
    "B = \"Text\";\n",
    "C = float(4.1);\n",
    "\n",
    "print(A==B);\n",
    "print(A != C);\n",
    "print(A>C);\n",
    "print(C <= A)\n",
    "print(B!=C)"
   ]
  },
  {
   "cell_type": "markdown",
   "metadata": {
    "id": "IVHKjssbWzWL"
   },
   "source": [
    "![ejercicio.png](./img/ejercicio.png)\n",
    "\n",
    "## Ejercicio 2\n",
    "Crea un programa donde se recojan dos inputs del usuario, y el output del programa sea si esos inputs son iguales o no"
   ]
  },
  {
   "cell_type": "code",
   "execution_count": 4,
   "metadata": {
    "id": "eRGvgCJPWzWM"
   },
   "outputs": [
    {
     "name": "stdin",
     "output_type": "stream",
     "text": [
      "Introduce un valor:  er\n",
      "Introduce otro valor:  34\n"
     ]
    },
    {
     "name": "stdout",
     "output_type": "stream",
     "text": [
      "Son diferentes\n"
     ]
    }
   ],
   "source": [
    "input1 = input(\"Introduce un valor: \");\n",
    "input2 = input(\"Introduce otro valor: \");\n",
    "print(\"Son iguales\" if input1 == input2 else \"Son diferentes\");"
   ]
  },
  {
   "cell_type": "markdown",
   "metadata": {
    "id": "Hv2bElS3WzWN"
   },
   "source": [
    "![ejercicio.png](./img/ejercicio.png)\n",
    "\n",
    "## Ejercicio 3\n",
    "Mismo programa que en 2, pero en esta ocasión tienen que ser tres inputs y dos salidas. Una de las salidas que nos indique si todos son iguales, y la otra si al menos dos inputs sí que lo son"
   ]
  },
  {
   "cell_type": "code",
   "execution_count": 15,
   "metadata": {
    "id": "fsJoCJYZWzWP",
    "outputId": "5fbe9c1c-9850-429a-b2d0-e57c006a3649"
   },
   "outputs": [
    {
     "name": "stdin",
     "output_type": "stream",
     "text": [
      "Introduce valor 1:  23\n",
      "Introduce valor 2:  er\n",
      "Introduce valor 3:  54\n"
     ]
    },
    {
     "name": "stdout",
     "output_type": "stream",
     "text": [
      "alguno es diferente\n",
      "Todos son distintos\n"
     ]
    }
   ],
   "source": [
    "input1 = input(\"Introduce valor 1: \");\n",
    "input2 = input(\"Introduce valor 2: \");\n",
    "input3 = input(\"Introduce valor 3: \");\n",
    "if input1 == input2 == input3:\n",
    "    print(\"los 3 son iguales\");\n",
    "else:\n",
    "    print(\"alguno es diferente\");\n",
    "if input1==input2 or input2 == input3 or input1 == input3:\n",
    "    print(\"Alguna pareja es igual\");\n",
    "else:\n",
    "    print(\"Todos son distintos\")\n",
    "    "
   ]
  },
  {
   "cell_type": "markdown",
   "metadata": {
    "id": "Sfv9cJR3WzWR"
   },
   "source": [
    "\n",
    "## Ejercicio 4\n",
    "Razona sin ejecutar código el output que obtendremos de las siguientes sentencias\n",
    "1. True and True and False\n",
    "2. not ((True or False) and (True or False))\n",
    "3. (False or False or False or True) and False\n",
    "4. not False and True and not True"
   ]
  },
  {
   "cell_type": "markdown",
   "metadata": {
    "id": "aq5OAOP6WzWR"
   },
   "source": [
    "False  \n",
    "False  \n",
    "False  \n",
    "False  "
   ]
  },
  {
   "cell_type": "code",
   "execution_count": null,
   "metadata": {},
   "outputs": [],
   "source": []
  }
 ],
 "metadata": {
  "colab": {
   "provenance": []
  },
  "kernelspec": {
   "display_name": "Python 3 (ipykernel)",
   "language": "python",
   "name": "python3"
  },
  "language_info": {
   "codemirror_mode": {
    "name": "ipython",
    "version": 3
   },
   "file_extension": ".py",
   "mimetype": "text/x-python",
   "name": "python",
   "nbconvert_exporter": "python",
   "pygments_lexer": "ipython3",
   "version": "3.10.11"
  }
 },
 "nbformat": 4,
 "nbformat_minor": 4
}
