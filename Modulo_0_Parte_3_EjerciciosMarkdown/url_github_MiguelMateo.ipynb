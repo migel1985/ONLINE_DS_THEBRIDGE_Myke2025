{
 "cells": [
  {
   "cell_type": "markdown",
   "id": "e74aee48-fcbb-4d78-9787-7bc90fb39c52",
   "metadata": {},
   "source": [
    "Url de mi github:\n",
    "\n",
    "https://github.com/migel1985"
   ]
  },
  {
   "cell_type": "code",
   "execution_count": null,
   "id": "c5553c32-717b-45b5-b671-22a53509ffcd",
   "metadata": {},
   "outputs": [],
   "source": []
  }
 ],
 "metadata": {
  "kernelspec": {
   "display_name": "Python 3 (ipykernel)",
   "language": "python",
   "name": "python3"
  },
  "language_info": {
   "codemirror_mode": {
    "name": "ipython",
    "version": 3
   },
   "file_extension": ".py",
   "mimetype": "text/x-python",
   "name": "python",
   "nbconvert_exporter": "python",
   "pygments_lexer": "ipython3",
   "version": "3.10.11"
  }
 },
 "nbformat": 4,
 "nbformat_minor": 5
}
