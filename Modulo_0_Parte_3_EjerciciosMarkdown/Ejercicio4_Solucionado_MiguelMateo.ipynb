{
 "cells": [
  {
   "cell_type": "markdown",
   "id": "015627fc-6ab1-45e8-9dc2-2f85db7968b0",
   "metadata": {},
   "source": [
    "# Ejercicio 6: Listas\n",
    "---\n",
    "---"
   ]
  },
  {
   "cell_type": "markdown",
   "id": "302a9482-2e04-4e57-8726-e12268abab24",
   "metadata": {},
   "source": [
    "- Manzanas\n",
    "- Plátanos\n",
    "- Uvas"
   ]
  },
  {
   "cell_type": "markdown",
   "id": "50869f1b-5e57-4a9d-a752-bbac1a0830a9",
   "metadata": {},
   "source": [
    "Y voy a poner otra con elementos con diferentes viñetas para que salgan como con espacios entre lineas\n",
    "\n",
    "* Manzanas\n",
    "- Plátanos\n",
    "* Uvas"
   ]
  },
  {
   "cell_type": "markdown",
   "id": "ea6a071f-d052-4b89-b4b4-1adde0b094ab",
   "metadata": {},
   "source": [
    "Y ahí va la lista con los elementos numerados y ordenados:\n",
    "\n",
    "1. Árbol binario\n",
    "2. Random Forest\n",
    "3. Regresión Logística"
   ]
  },
  {
   "cell_type": "markdown",
   "id": "7f206eb2-c199-40e7-a505-87cb287e9657",
   "metadata": {},
   "source": [
    "# Ejercicio 7: Listas Anidadas\n",
    "---\n",
    "---"
   ]
  },
  {
   "cell_type": "markdown",
   "id": "f7413a0b-a2df-426d-974c-cb8126bd60d3",
   "metadata": {},
   "source": [
    "#Frutas y Verduras\n",
    "\n",
    "1. Frutas\n",
    "- Kaki\n",
    "- Mandarina\n",
    "- Pomelo\n",
    "- Uva\n",
    "  \n",
    "2. Verduras\n",
    "   \n",
    "- Acelga\n",
    "- Espinaca\n",
    "- Lechuga\n",
    "- Puerro"
   ]
  },
  {
   "cell_type": "markdown",
   "id": "3bb8551a-5dd7-47ca-a7e0-4f8bf78091a0",
   "metadata": {},
   "source": [
    "# Ejercicio 8: Enlaces e Imágenes\n",
    "---\n",
    "---"
   ]
  },
  {
   "cell_type": "markdown",
   "id": "b8dbacab-ca17-474b-8fdc-936fe10674f0",
   "metadata": {},
   "source": [
    "[Por aquí se cruzan puentes](http://www.thebridge.com)  \n",
    "![Logo](./img/TheBridge_logo_RGB_color.jpg)"
   ]
  },
  {
   "cell_type": "markdown",
   "id": "6f509589-01d7-445d-8ade-6c1bf2dde94f",
   "metadata": {},
   "source": [
    "# Ejercicio 9: Líneas Horizontales y Bloques de Código\n",
    "---\n",
    "---"
   ]
  },
  {
   "cell_type": "markdown",
   "id": "18650f26-7499-4564-8727-b29fb4e8086e",
   "metadata": {},
   "source": [
    "***"
   ]
  },
  {
   "cell_type": "code",
   "execution_count": 2,
   "id": "ab384fc9-3df0-472b-8717-29274c355ad3",
   "metadata": {},
   "outputs": [
    {
     "name": "stdout",
     "output_type": "stream",
     "text": [
      "Hola mundo\n"
     ]
    }
   ],
   "source": [
    "print(\"Hola mundo\")"
   ]
  },
  {
   "cell_type": "markdown",
   "id": "4d71e6ed-6a45-48ed-99fd-6409ae8c6684",
   "metadata": {},
   "source": [
    "---"
   ]
  }
 ],
 "metadata": {
  "kernelspec": {
   "display_name": "Python 3 (ipykernel)",
   "language": "python",
   "name": "python3"
  },
  "language_info": {
   "codemirror_mode": {
    "name": "ipython",
    "version": 3
   },
   "file_extension": ".py",
   "mimetype": "text/x-python",
   "name": "python",
   "nbconvert_exporter": "python",
   "pygments_lexer": "ipython3",
   "version": "3.10.11"
  }
 },
 "nbformat": 4,
 "nbformat_minor": 5
}
