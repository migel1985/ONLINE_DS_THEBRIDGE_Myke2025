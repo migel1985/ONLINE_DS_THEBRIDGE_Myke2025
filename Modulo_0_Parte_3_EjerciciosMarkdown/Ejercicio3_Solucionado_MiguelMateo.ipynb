{
 "cells": [
  {
   "cell_type": "markdown",
   "id": "e7c971e9-0bd6-47be-98af-a900d64f1670",
   "metadata": {},
   "source": [
    "# Ejercicio 1: Cabeceras\n",
    "---\n",
    "---"
   ]
  },
  {
   "cell_type": "markdown",
   "id": "9d7279f8-2e11-4f3f-861c-fbd7daf3dd90",
   "metadata": {},
   "source": [
    "# Ciencia de datos\n",
    "## Introducción\n",
    "### Herramientas"
   ]
  },
  {
   "cell_type": "markdown",
   "id": "616111ee-2df2-4207-963a-5cc3da682d25",
   "metadata": {},
   "source": [
    "# Ejercicio 2: Estilos de texto\n",
    "---\n",
    "---"
   ]
  },
  {
   "cell_type": "markdown",
   "id": "d99fd5bf-04d2-44f6-9f70-4810efc4ca9a",
   "metadata": {},
   "source": [
    "En un curso anterior de Inteligencia Artificial enfocada a gestión de proyectos ya aprendí a usar **Markdown** para la creación de mapas mentales (MindMaps) pero lo hacíamos con bloc de notas y sin usar *Jupyter*, algo que junto a ***Python*** me parece de lo más atractivo del ámbito actual. \n",
    "\n",
    "Para ejecutar *Jupyter*, debemos abrir un PowerShell, posicionarnos en la carpeta que queremos que coja el \"proyecto\" y ejecutar: `Jupyter notebook`"
   ]
  },
  {
   "cell_type": "markdown",
   "id": "7961005a-0cd6-4238-803e-e5425571b160",
   "metadata": {},
   "source": [
    "# Ejercicio 3: Resaltados y HTML\n",
    "---\n",
    "---"
   ]
  },
  {
   "cell_type": "markdown",
   "id": "6d0c1c3e-a36e-4931-9702-1623c6e13254",
   "metadata": {},
   "source": [
    "<mark>Resaltado (En este ejercicio como ya estaba en el enunciado resuelto, he querido investigar a poner otros colores)</mark>  \n",
    "<mark style=\"background-color: greenyellow; color: red;\">Texto resaltado en verde</mark>  \n",
    "<font color=\"blue\"> color azul </font>  \n",
    "<font color=\"red\"> color rojo</font>  \n",
    "<font color=\"greenyellow\"> color lima limón</font>"
   ]
  },
  {
   "cell_type": "markdown",
   "id": "0de290e9-967e-45e7-9441-d63163f77aad",
   "metadata": {},
   "source": [
    "# Ejercicio 4: Citas\n",
    "---\n",
    "---"
   ]
  },
  {
   "cell_type": "markdown",
   "id": "727add23-9c5f-49a3-844a-23e01b4b36df",
   "metadata": {},
   "source": [
    "> La Ciencia de Datos es el petróleo del siglo XXI.  \n",
    ">> La Ciencia de Datos es el petróleo del siglo XXI."
   ]
  },
  {
   "cell_type": "markdown",
   "id": "ff8558db-79b8-4f35-91e9-18bf955858b3",
   "metadata": {},
   "source": [
    "# Ejercicio 5: Combinando todo\n",
    "---\n",
    "---"
   ]
  },
  {
   "cell_type": "markdown",
   "id": "54560420-309e-4dd4-b2ef-cd46c80c0ea4",
   "metadata": {},
   "source": [
    "## Curso de Markdown\n",
    "\n",
    "Estamos cursando un BootCamp que tiene un contenido muy **importante**.\n",
    "\n",
    "> Aprender es querer\n",
    ">> y aprender bien es querer más todavía\n",
    "\n",
    "Este texto tiene la siguiente palabra resaltada en <mark style=\"background-color: greenyellow; color: red;\">verde</mark>  con la etiqueta `mark` y otra palabra en <span style=\"background-color:blue;color:white;\">azul link y letra blanca</span> con la etiqueta `span`"
   ]
  },
  {
   "cell_type": "code",
   "execution_count": null,
   "id": "12397e93-42ef-4dfb-a0b0-68ebbdc66fc8",
   "metadata": {},
   "outputs": [],
   "source": []
  }
 ],
 "metadata": {
  "kernelspec": {
   "display_name": "Python 3 (ipykernel)",
   "language": "python",
   "name": "python3"
  },
  "language_info": {
   "codemirror_mode": {
    "name": "ipython",
    "version": 3
   },
   "file_extension": ".py",
   "mimetype": "text/x-python",
   "name": "python",
   "nbconvert_exporter": "python",
   "pygments_lexer": "ipython3",
   "version": "3.10.11"
  }
 },
 "nbformat": 4,
 "nbformat_minor": 5
}
