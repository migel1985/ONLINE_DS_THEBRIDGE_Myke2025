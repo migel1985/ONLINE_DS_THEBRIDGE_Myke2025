{
 "cells": [
  {
   "cell_type": "markdown",
   "metadata": {
    "id": "vigJnuAMSU4x"
   },
   "source": [
    "![TheBridge_logo_RGB_color.jpg](attachment:TheBridge_logo_RGB_color.jpg)"
   ]
  },
  {
   "cell_type": "markdown",
   "metadata": {
    "id": "2xmnwM17SU4y"
   },
   "source": [
    "![ejercicios.png](attachment:ejercicios.png)"
   ]
  },
  {
   "cell_type": "markdown",
   "metadata": {
    "id": "liorA-1ZSU4y"
   },
   "source": [
    "# Ejercicios Clases y Objetos"
   ]
  },
  {
   "cell_type": "markdown",
   "metadata": {
    "id": "5xXUz5l9SU4z"
   },
   "source": [
    "## Ejercicio 1\n",
    "Somos una empresa que tiene varias tiendas de electrodomesticos. Necesitamos un programa para manejar las tiendas, ver las ventas que han tenido, cuántos empleados hay, etc... Para ello vamos a modelizar la tienda en una clase, que tendrá las siguientes características:\n",
    "* Nombre clase: \"Tienda\"\n",
    "* Atributos comunes:\n",
    "    * Tipo: \"Electrodomésticos\"\n",
    "    * Abierta: True\n",
    "* Atributos propios de cada tienda:\n",
    "    * Nombre - String\n",
    "    * Dirección - String\n",
    "    * Número de empleados - int\n",
    "    * Ventas ultimos 3 meses - Lista de 3 numeros\n",
    "* Método para calcular las ventas de todos los meses, que devuelva un numero con todas las ventas.\n",
    "* Método que calcula la media de ventas de los ultimos meses, por empleado\n",
    "* Método que devuelve en un string el nombre de la tienda, junto con su dirección.\n",
    "* Método que obtiene las ventas del último mes.\n",
    "* Método para dar una proyección de las ventas en caso de haber invertido X dinero en marketing en esa tienda. Siendo X el parámetro de entrada. Si X es menor de 1000, las ventas de los ultimos 3 meses hubiesen sido de (1.2 x ventas), si es mayor o igual de 1000, las ventas hubiesen sido de (1.5 x venta). El método reescribe el atributo de ventas en los últimos 3 meses, y además devuelve las ventas con el aumento.\n",
    "\n",
    "Se pide:\n",
    "1. Implementar la clase \"Tienda\"\n",
    "2. Crear tres tiendas con datos inventados\n",
    "3. Comprueba en al menos una de ellas, todo lo implementado en la clase tienda (sus atributos, media de ventas, ventas/empleado...)\n",
    "3. Calcular las ventas del último mes de todas las tiendas. Para ello usa el bucle `for`\n",
    "4. Imprime por pantalla los nombres de las tiendas cuya dirección lleve el string \"Avenida\"\n",
    "5. Seguro que ya has hecho este apartado... Documenta la clase :)"
   ]
  },
  {
   "cell_type": "code",
   "execution_count": 46,
   "metadata": {
    "id": "5cLQcLxfSU4z"
   },
   "outputs": [],
   "source": [
    "class Tienda:\n",
    "\n",
    "    \"\"\"\n",
    "    Clase que representa una tienda de electrodomésticos.\n",
    "\n",
    "    Atributos de clase:\n",
    "        Tipo (str): Tipo de tienda (siempre \"Electrodomésticos\").\n",
    "        Abierta (bool): Estado general de apertura de la tienda.\n",
    "\n",
    "    Atributos de instancia:\n",
    "        nombre (str): Nombre de la tienda.\n",
    "        direccion (str): Dirección física de la tienda.\n",
    "        numEmpleados (int): Número de empleados de la tienda.\n",
    "        ventas3Meses (list[float]): Lista con las ventas de los últimos 3 meses.\n",
    "    \"\"\"\n",
    "\n",
    "    # Atributos comunes (de clase)\n",
    "\n",
    "    Tipo = \"Electrodomésticos\"\n",
    "    Abierta = True\n",
    "\n",
    "    \n",
    "    def __init__(self, pNombre, pDireccion, pNumEmpleados, pVentas3Meses):\n",
    "        \"\"\"\n",
    "        Constructor que inicializa los atributos propios de cada tienda.\n",
    "\n",
    "        Args:\n",
    "            pNombre (str): Nombre de la tienda.\n",
    "            pDireccion (str): Dirección de la tienda.\n",
    "            pNumEmpleados (int): Número de empleados.\n",
    "            pVentas3Meses (list[float]): Ventas de los últimos 3 meses.\n",
    "        \"\"\"\n",
    "        self.nombre = pNombre;\n",
    "        self.direccion = pDireccion;\n",
    "        self.numEmpleados = pNumEmpleados;\n",
    "        self.ventas3Meses = pVentas3Meses;\n",
    "\n",
    "    def getSumaVentas(self):\n",
    "        \"\"\"\n",
    "        Calcula la suma total de ventas de los últimos 3 meses.\n",
    "\n",
    "        Returns:\n",
    "            float: Suma de las ventas.\n",
    "        \"\"\"\n",
    "        return sum(self.ventas3Meses);\n",
    "\n",
    "    def getMediaVentasPorEmpleado(self):\n",
    "        \"\"\"\n",
    "        Calcula la media de ventas por empleado de la tienda.\n",
    "\n",
    "        Returns:\n",
    "            float: Media de ventas por empleado.\n",
    "        \"\"\"\n",
    "        return sum(self.ventas3Meses)/self.numEmpleados;\n",
    "\n",
    "    def getLocalizacionTienda(self):\n",
    "        \"\"\"\n",
    "        Devuelve una cadena con el nombre y dirección de la tienda.\n",
    "\n",
    "        Returns:\n",
    "            str: \"Nombre, Dirección\"\n",
    "        \"\"\"\n",
    "        return self.nombre + \", \" + self.direccion;\n",
    "\n",
    "    def getVentasUltimoMes(self):\n",
    "        \"\"\"\n",
    "        Devuelve las ventas del último mes.\n",
    "\n",
    "        Returns:\n",
    "            float: Ventas del último mes.\n",
    "        \"\"\"\n",
    "        return self.ventas3Meses[-1];\n",
    "\n",
    "    def getProyeccionVentas(self, inversionMarketing):\n",
    "        \"\"\"\n",
    "        Calcula la proyección de ventas según la inversión en marketing.\n",
    "        Si la inversión < 1000 → incremento del 20%.\n",
    "        Si la inversión >= 1000 → incremento del 50%.\n",
    "\n",
    "        Args:\n",
    "            inversionMarketing (float): Cantidad invertida en marketing.\n",
    "\n",
    "        Returns:\n",
    "            list[float]: Lista de ventas proyectadas de los últimos 3 meses.\n",
    "        \"\"\"\n",
    "        if inversionMarketing < 1000:\n",
    "            self.ventas3Meses = [curVenta * 1.2 for curVenta in self.ventas3Meses];\n",
    "        elif inversionMarketing >= 1000:\n",
    "            self.ventas3Meses = [curVenta * 1.5 for curVenta in self.ventas3Meses];\n",
    "        return self.ventas3Meses;\n"
   ]
  },
  {
   "cell_type": "code",
   "execution_count": 47,
   "metadata": {},
   "outputs": [
    {
     "name": "stdout",
     "output_type": "stream",
     "text": [
      "174500\n",
      "34900.0\n",
      "Tien21, Avenida Beatísimo de la muerte 74 Bajo\n",
      "14500\n",
      "[15000.0, 225000.0, 21750.0]\n",
      "True\n",
      "48784.0\n",
      "Tien21\n",
      "La frutería de Pepa y Avelino\n"
     ]
    }
   ],
   "source": [
    "tienda1 = Tienda(\"Tien21\", \"Avenida Beatísimo de la muerte 74 Bajo\", 5, [10000, 150000, 14500])\n",
    "tienda2 = Tienda(\"Eroskio Centrum\", \"C/ Plaza de la Amparo del Valle 45 Bajo\", 11, [1000.50, 1045, 14534])\n",
    "tienda3 = Tienda(\"La frutería de Pepa y Avelino\", \"Avenida Mayor 1\", 2, [12000, 120000, 12500])\n",
    "\n",
    "print(tienda1.getSumaVentas())\n",
    "print(tienda1.getMediaVentasPorEmpleado())\n",
    "print(tienda1.getLocalizacionTienda())\n",
    "print(tienda1.getVentasUltimoMes())\n",
    "print(tienda1.getProyeccionVentas(1500))\n",
    "print(tienda1.Abierta)\n",
    "\n",
    "listaTiendas = [tienda1, tienda2, tienda3]\n",
    "sumaVentasUltimoMes = 0\n",
    "for tienda in listaTiendas:\n",
    "    sumaVentasUltimoMes += tienda.ventas3Meses[2]\n",
    "print(sumaVentasUltimoMes)\n",
    "\n",
    "for tienda in listaTiendas:\n",
    "    if \"Avenida\" in tienda.direccion:\n",
    "        print(tienda.nombre)"
   ]
  },
  {
   "cell_type": "markdown",
   "metadata": {
    "id": "WEBq7EpsSU40"
   },
   "source": [
    "## Ejercicio 2\n",
    "En este ejercicio vamos a implementar una clase *Perro* en Python. La clase tiene las siguientes características:\n",
    "* Cosas que sabemos seguro que tiene un perro\n",
    "    * Tiene 4 patas\n",
    "    * 2 orejas\n",
    "    * 2 ojos\n",
    "    * Una velocidad de 0. Por defecto, el perro está parado\n",
    "* Cuando se inicialice:\n",
    "    * El perro será de una determinada raza\n",
    "    * Por defecto tendrá pelo \"Marrón\", a no ser que se diga lo contrario.\n",
    "    * Por defecto no tendrá dueño, a no ser que se diga lo contrario.\n",
    "    \n",
    "* Dispondrá también de un método llamado andar, que tiene un argumento de entrada (aumento_velocidad). Este valor se le sumará a la velocidad que ya llevaba el perro.\n",
    "* Necesita otro método (parar), donde pondremos la velocidad a 0.\n",
    "* Otro método llamado \"ladrar\", que tendrá un argumento de entrada, y la salida será el siguiente string: \"GUAU!\" + el argumento de entrada.\n",
    "\n",
    "\n",
    "Se pide:\n",
    "* Implementa la clase *Perro*\n",
    "* Crea un objeto de tipo *Perro*, sin dueño\n",
    "* Comprueba que están bien todos sus atributos\n",
    "* Prueba que ande, y comprueba su velocidad\n",
    "* Páralo\n",
    "* Documenta la clase *Perro*"
   ]
  },
  {
   "cell_type": "code",
   "execution_count": 35,
   "metadata": {
    "id": "DpEWvbwGSU40"
   },
   "outputs": [],
   "source": [
    "class Perro:\n",
    "\n",
    "    \"\"\"\n",
    "    Clase que representa un perro.\n",
    "\n",
    "    Atributos de clase:\n",
    "        Patas (int): Número de patas que tiene un perro.\n",
    "        Oreja (int): Número de orejas que tiene un perro.\n",
    "        Ojo (int): Número de ojos que tiene un perro.\n",
    "\n",
    "    Atributos de instancia:\n",
    "        nombre (str): Nombre de la tienda.\n",
    "        direccion (str): Dirección física de la tienda.\n",
    "        numEmpleados (int): Número de empleados de la tienda.\n",
    "        ventas3Meses (list[float]): Lista con las ventas de los últimos 3 meses.\n",
    "    \"\"\"\n",
    "\n",
    "    # Atributos comunes (de clase)\n",
    "\n",
    "    patas = 4;\n",
    "    oreja = 2;\n",
    "    ojo = 2;\n",
    "    velocidad = 0;\n",
    "\n",
    "    def __init__(self, pRaza, pPelo = \"Marrón\", pDuenno = None):\n",
    "        \"\"\"\n",
    "        Constructor que inicializa los atributos propios de cada perro.\n",
    "\n",
    "        Args:\n",
    "            pVelocidad (list[float]): Ventas de los últimos 3 meses.\n",
    "            pPelo (str): Color del pelo del perro.\n",
    "        \"\"\"\n",
    "        self.raza = pRaza;\n",
    "        self.pelo = pPelo;\n",
    "        self.duenno = pDuenno;\n",
    "    \n",
    "    def andar(self, pVelocidad):\n",
    "        \"\"\"\n",
    "        Suma la velocidad de la instancia de perro\n",
    "\n",
    "        Returns:\n",
    "            float: Suma de las ventas.\n",
    "        \"\"\"\n",
    "        self.velocidad += pVelocidad;\n",
    "\n",
    "    def parar(self):\n",
    "        \"\"\"\n",
    "        Pone la velocidad a 0 y por lo tanto hace que el perro se pare\n",
    "\n",
    "        Returns:\n",
    "            float: Suma de las ventas.\n",
    "        \"\"\"\n",
    "        self.velocidad = 0;\n",
    "\n",
    "    def ladrar(self, pMensaje):\n",
    "        \"\"\"\n",
    "        muestra por pantalla el mensaje \"GUAU!! + el contenido del parámetro pMensaje\"\n",
    "\n",
    "        Returns:\n",
    "            ninguno.\n",
    "        \"\"\"\n",
    "        print(\"GUAU\", pMensaje)\n",
    "            "
   ]
  },
  {
   "cell_type": "code",
   "execution_count": 44,
   "metadata": {},
   "outputs": [
    {
     "name": "stdout",
     "output_type": "stream",
     "text": [
      "45\n",
      "55\n",
      "0\n",
      "GUAU He ladrado\n"
     ]
    }
   ],
   "source": [
    "perro1 = Perro(pRaza = \"Caniche\", pDuenno = \"Miguel\");\n",
    "perro1.andar(45)\n",
    "print(perro1.velocidad)\n",
    "perro1.andar(10)\n",
    "print(perro1.velocidad)\n",
    "perro1.parar()\n",
    "print(perro1.velocidad)\n",
    "perro1.ladrar(\"He ladrado\")"
   ]
  },
  {
   "cell_type": "raw",
   "metadata": {},
   "source": []
  }
 ],
 "metadata": {
  "colab": {
   "provenance": []
  },
  "kernelspec": {
   "display_name": "Python 3 (ipykernel)",
   "language": "python",
   "name": "python3"
  },
  "language_info": {
   "codemirror_mode": {
    "name": "ipython",
    "version": 3
   },
   "file_extension": ".py",
   "mimetype": "text/x-python",
   "name": "python",
   "nbconvert_exporter": "python",
   "pygments_lexer": "ipython3",
   "version": "3.10.11"
  }
 },
 "nbformat": 4,
 "nbformat_minor": 4
}
